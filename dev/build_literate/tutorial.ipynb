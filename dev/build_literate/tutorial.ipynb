{
 "cells": [
  {
   "cell_type": "markdown",
   "source": [
    "# Tutorial"
   ],
   "metadata": {}
  },
  {
   "cell_type": "markdown",
   "source": [
    "The core of generalized Bloch model is implemented in the function `apply_hamiltonian_gbloch!(∂m∂t, m, mfun, p, t)`, which calculates the derivative `∂m/∂t` for a given magnetization vector `m` and stores it in-place in the the variable `∂m∂t`. The function interface is written in a way that we can directly feed it into a differential equation solver of the [DifferentialEquations.jl](https://diffeq.sciml.ai/stable/) package."
   ],
   "metadata": {}
  },
  {
   "cell_type": "markdown",
   "source": [
    "For this example, we need the following packages:"
   ],
   "metadata": {}
  },
  {
   "outputs": [],
   "cell_type": "code",
   "source": [
    "using MRIeddyCurrentOptimization\n",
    "using BenchmarkTools\n",
    "using LinearAlgebra\n",
    "using Random"
   ],
   "metadata": {},
   "execution_count": null
  },
  {
   "cell_type": "markdown",
   "source": [
    "Define number of flip angles and cycles"
   ],
   "metadata": {}
  },
  {
   "outputs": [],
   "cell_type": "code",
   "source": [
    "nFA = 571\n",
    "nCyc = 872;"
   ],
   "metadata": {},
   "execution_count": null
  },
  {
   "cell_type": "markdown",
   "source": [
    "calculate 2D golden means"
   ],
   "metadata": {}
  },
  {
   "outputs": [],
   "cell_type": "code",
   "source": [
    "s, v = eigen([0 1 0; 0 0 1; 1 0 1])\n",
    "GA1 = real(v[1,end] / v[end,end])"
   ],
   "metadata": {},
   "execution_count": null
  },
  {
   "cell_type": "markdown",
   "source": [
    "second one"
   ],
   "metadata": {}
  },
  {
   "outputs": [],
   "cell_type": "code",
   "source": [
    "GA2 = real(v[2,end] / v[end,end])"
   ],
   "metadata": {},
   "execution_count": null
  },
  {
   "cell_type": "markdown",
   "source": [
    "set up 3D radial koosh ball trajectory"
   ],
   "metadata": {}
  },
  {
   "outputs": [],
   "cell_type": "code",
   "source": [
    "theta = acos.(((0:(nCyc * nFA - 1)) * GA1) .% 1)\n",
    "phi = Float64.(0:(nCyc * nFA - 1)) * 2 * pi * GA2\n",
    "\n",
    "theta = reshape(theta, nCyc, nFA)\n",
    "phi   = reshape(phi, nCyc, nFA)\n",
    "theta = vec(theta)\n",
    "phi   = vec(phi)\n",
    "\n",
    "k = zeros(3, length(theta))\n",
    "k[3,:] = cos.(theta)\n",
    "k[2,:] = sin.(theta) .* sin.(phi)\n",
    "k[1,:] = sin.(theta) .* cos.(phi)\n",
    "\n",
    "k = reshape(k, 3, nCyc, nFA)\n",
    "k = permutedims(k, (1, 3, 2))\n",
    "kv = reshape(k, 3, nCyc*nFA);"
   ],
   "metadata": {},
   "execution_count": null
  },
  {
   "cell_type": "markdown",
   "source": [
    "Set number of iterations"
   ],
   "metadata": {}
  },
  {
   "outputs": [],
   "cell_type": "code",
   "source": [
    "N = 10_000_000"
   ],
   "metadata": {},
   "execution_count": null
  },
  {
   "cell_type": "markdown",
   "source": [
    "initalize with linear order"
   ],
   "metadata": {}
  },
  {
   "outputs": [],
   "cell_type": "code",
   "source": [
    "order = Int32.(1:(nCyc*nFA))\n",
    "order = reshape(order, nFA, nCyc)"
   ],
   "metadata": {},
   "execution_count": null
  },
  {
   "cell_type": "markdown",
   "source": [
    "calculate initial cost"
   ],
   "metadata": {}
  },
  {
   "outputs": [],
   "cell_type": "code",
   "source": [
    "MRIeddyCurrentOptimization.cost(kv,order)"
   ],
   "metadata": {},
   "execution_count": null
  },
  {
   "cell_type": "markdown",
   "source": [
    "call simulated annealing algorithm that changes the order in place (as indicated by the ! at the end of the function call)"
   ],
   "metadata": {}
  },
  {
   "outputs": [],
   "cell_type": "code",
   "source": [
    "SimulatedAnneling!(kv, order, N, nFA, nCyc)"
   ],
   "metadata": {},
   "execution_count": null
  },
  {
   "cell_type": "markdown",
   "source": [
    "calculate the final cost"
   ],
   "metadata": {}
  },
  {
   "outputs": [],
   "cell_type": "code",
   "source": [
    "MRIeddyCurrentOptimization.cost(kv,order)"
   ],
   "metadata": {},
   "execution_count": null
  },
  {
   "cell_type": "markdown",
   "source": [
    "# Benchmarking"
   ],
   "metadata": {}
  },
  {
   "outputs": [],
   "cell_type": "code",
   "source": [
    "N = 1_000\n",
    "@benchmark SimulatedAnneling!($kv, $order, $N, $nFA, $nCyc, rng = $(MersenneTwister(12345)))"
   ],
   "metadata": {},
   "execution_count": null
  },
  {
   "cell_type": "markdown",
   "source": [
    "---\n",
    "\n",
    "*This notebook was generated using [Literate.jl](https://github.com/fredrikekre/Literate.jl).*"
   ],
   "metadata": {}
  }
 ],
 "nbformat_minor": 3,
 "metadata": {
  "language_info": {
   "file_extension": ".jl",
   "mimetype": "application/julia",
   "name": "julia",
   "version": "1.6.3"
  },
  "kernelspec": {
   "name": "julia-1.6",
   "display_name": "Julia 1.6.3",
   "language": "julia"
  }
 },
 "nbformat": 4
}
