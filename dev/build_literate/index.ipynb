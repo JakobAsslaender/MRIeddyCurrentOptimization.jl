{
 "cells": [
  {
   "cell_type": "markdown",
   "source": [
    "## Tutorial"
   ],
   "metadata": {}
  },
  {
   "cell_type": "markdown",
   "source": [
    "The main function is `SimulatedAnneling!(k, order)`, which, for a given k-space trajectory `k`, optimizes the index matrix `order`. The function randomly chooses a timepoint `t` of the spin dynamics and, within `t`, attempts to swap the two random cylce indices `c` and `c̃`. If the swap is beneficial, the indices are swapped. In line with the simulated annealing theory, even unbeneficial swaps are performed with a certain probabilty that is comparably high in the first iterations and goes to zero for later iterations. In the following, we explain the interface of the package at the example of the optimization used in the paper where we optimize a 3D radial koosh-ball trajectry."
   ],
   "metadata": {}
  },
  {
   "cell_type": "markdown",
   "source": [
    "For this example, we need the following packages:"
   ],
   "metadata": {}
  },
  {
   "outputs": [],
   "cell_type": "code",
   "source": [
    "using MRIeddyCurrentOptimization\n",
    "using BenchmarkTools\n",
    "using LinearAlgebra\n",
    "using Random\n",
    "using Plots"
   ],
   "metadata": {},
   "execution_count": null
  },
  {
   "cell_type": "markdown",
   "source": [
    "We define number of time points in our spin dynamics (i.e. the number of RF-pulses)"
   ],
   "metadata": {}
  },
  {
   "outputs": [],
   "cell_type": "code",
   "source": [
    "Nt = 981;"
   ],
   "metadata": {},
   "execution_count": null
  },
  {
   "cell_type": "markdown",
   "source": [
    "as well as the number of cycles that we want to acquire"
   ],
   "metadata": {}
  },
  {
   "outputs": [],
   "cell_type": "code",
   "source": [
    "Nc = 94;"
   ],
   "metadata": {},
   "execution_count": null
  },
  {
   "cell_type": "markdown",
   "source": [
    "Like in the paper, we use the 2D golden means trajectory proposed by [Chan et al.](https://doi.org/10.1002/mrm.21837), which can be calculated with an eigendecomposition. The first golden mean is"
   ],
   "metadata": {}
  },
  {
   "outputs": [],
   "cell_type": "code",
   "source": [
    "s, v = eigen([0 1 0; 0 0 1; 1 0 1])\n",
    "ϕ₁ = real(v[1,end] / v[end])"
   ],
   "metadata": {},
   "execution_count": null
  },
  {
   "cell_type": "markdown",
   "source": [
    "and the second one is"
   ],
   "metadata": {}
  },
  {
   "outputs": [],
   "cell_type": "code",
   "source": [
    "ϕ₂ = real(v[2,end] / v[end])"
   ],
   "metadata": {},
   "execution_count": null
  },
  {
   "cell_type": "markdown",
   "source": [
    "With the golden means we calcualte the angles of the k-space spokes:"
   ],
   "metadata": {}
  },
  {
   "outputs": [],
   "cell_type": "code",
   "source": [
    "θ = acos.(((0:(Nc * Nt - 1)) * ϕ₁) .% 1)\n",
    "φ = (0:(Nc * Nt - 1)) * 2π * ϕ₂;"
   ],
   "metadata": {},
   "execution_count": null
  },
  {
   "cell_type": "markdown",
   "source": [
    "and calculate the k-space trajectory:"
   ],
   "metadata": {}
  },
  {
   "outputs": [],
   "cell_type": "code",
   "source": [
    "k = zeros(3, length(θ))\n",
    "k[3,:] = cos.(θ)\n",
    "k[2,:] = sin.(θ) .* sin.(φ)\n",
    "k[1,:] = sin.(θ) .* cos.(φ);"
   ],
   "metadata": {},
   "execution_count": null
  },
  {
   "cell_type": "markdown",
   "source": [
    "As discussed in the paper, a near-optimal k-space coverage is achieved by binning the first `Nc` angles into the first time point `t₁`, the next `Nc` angles into the second time point `t₂` and so forth. Hence, we need to permute the dimensions of the k-space trajectory to re-order the spokes:"
   ],
   "metadata": {}
  },
  {
   "outputs": [],
   "cell_type": "code",
   "source": [
    "k = reshape(k, 3, Nc, Nt)\n",
    "k = permutedims(k, (1, 3, 2))\n",
    "k = reshape(k, 3, Nc*Nt);"
   ],
   "metadata": {},
   "execution_count": null
  },
  {
   "cell_type": "markdown",
   "source": [
    "Here, we initialize the simulated annealing algorithm with the *default*, i.e., with a linear ordering scheme:"
   ],
   "metadata": {}
  },
  {
   "outputs": [],
   "cell_type": "code",
   "source": [
    "order = Int32.(1:(Nc*Nt))\n",
    "order = reshape(order, Nt, Nc)"
   ],
   "metadata": {},
   "execution_count": null
  },
  {
   "cell_type": "markdown",
   "source": [
    "The cost of this order, with the package's default cost function (`p=3`, which is equivalent to `p=6` in the paper due to an additional squaring, and with `w_even=1`, i.e., with equal weights on even and odd jumps) is given by"
   ],
   "metadata": {}
  },
  {
   "outputs": [],
   "cell_type": "code",
   "source": [
    "cost(k,order)"
   ],
   "metadata": {},
   "execution_count": null
  },
  {
   "cell_type": "markdown",
   "source": [
    "We can visualize inital cost by plotting a histogram of the Euclidean distances:"
   ],
   "metadata": {}
  },
  {
   "outputs": [],
   "cell_type": "code",
   "source": [
    "Δk = k[:,order[1:end - 1]] - k[:,order[2:end]]\n",
    "Δk = vec(reduce(+, Δk.^2, dims=1))\n",
    "p = histogram(Δk, bins=(0:0.01:1.5), xlabel=\"Euclidean distance\", ylabel=\"Number of occurrencess\", label = \"default ordering\")"
   ],
   "metadata": {},
   "execution_count": null
  },
  {
   "cell_type": "markdown",
   "source": [
    "Like in the paper, we use a fixed 1 billion iterations:"
   ],
   "metadata": {}
  },
  {
   "outputs": [],
   "cell_type": "code",
   "source": [
    "N = 1_000_000_000;"
   ],
   "metadata": {},
   "execution_count": null
  },
  {
   "cell_type": "markdown",
   "source": [
    "and we call the simulated annealing algorithm, which changes the matrix `order` in-place (as indicated by the `!` at the end of the function call)"
   ],
   "metadata": {}
  },
  {
   "outputs": [],
   "cell_type": "code",
   "source": [
    "SimulatedAnneling!(k, order, N_iter=N)"
   ],
   "metadata": {},
   "execution_count": null
  },
  {
   "cell_type": "markdown",
   "source": [
    "One can appreciate the changed indices in `order` and we use the same cost function to compute the final cost that is substantially reduced:"
   ],
   "metadata": {}
  },
  {
   "outputs": [],
   "cell_type": "code",
   "source": [
    "cost(k,order)"
   ],
   "metadata": {},
   "execution_count": null
  },
  {
   "cell_type": "markdown",
   "source": [
    "The redueced cost is also reflected in the histogram of the spherical distance:"
   ],
   "metadata": {}
  },
  {
   "outputs": [],
   "cell_type": "code",
   "source": [
    "Δk = k[:,order[1:end - 1]] - k[:,order[2:end]]\n",
    "Δk = vec(reduce(+, Δk.^2, dims=1))\n",
    "histogram!(p, Δk, bins=(0:0.01:1.5), label = \"Uniform weighting\")"
   ],
   "metadata": {},
   "execution_count": null
  },
  {
   "cell_type": "markdown",
   "source": [
    "## Benchmarking\n",
    "Last but not least, we can benchmark the code and verify that the code is non-allocating:"
   ],
   "metadata": {}
  },
  {
   "outputs": [],
   "cell_type": "code",
   "source": [
    "N = 1_000\n",
    "@benchmark SimulatedAnneling!($k, $order, N_iter=$N, rng = $(MersenneTwister(12345)))"
   ],
   "metadata": {},
   "execution_count": null
  },
  {
   "cell_type": "markdown",
   "source": [
    "---\n",
    "\n",
    "*This notebook was generated using [Literate.jl](https://github.com/fredrikekre/Literate.jl).*"
   ],
   "metadata": {}
  }
 ],
 "nbformat_minor": 3,
 "metadata": {
  "language_info": {
   "file_extension": ".jl",
   "mimetype": "application/julia",
   "name": "julia",
   "version": "1.6.5"
  },
  "kernelspec": {
   "name": "julia-1.6",
   "display_name": "Julia 1.6.5",
   "language": "julia"
  }
 },
 "nbformat": 4
}
